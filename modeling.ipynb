{
 "cells": [
  {
   "cell_type": "code",
   "execution_count": 1,
   "id": "d3640f94",
   "metadata": {},
   "outputs": [
    {
     "name": "stderr",
     "output_type": "stream",
     "text": [
      "/home/wzhan24/anaconda3/lib/python3.10/site-packages/tqdm/auto.py:21: TqdmWarning: IProgress not found. Please update jupyter and ipywidgets. See https://ipywidgets.readthedocs.io/en/stable/user_install.html\n",
      "  from .autonotebook import tqdm as notebook_tqdm\n"
     ]
    }
   ],
   "source": [
    "import numpy as np\n",
    "import matplotlib.pyplot as plt\n",
    "import pickle\n",
    "import torch\n",
    "from torch_geometric.data import Dataset, Data"
   ]
  },
  {
   "cell_type": "code",
   "execution_count": null,
   "id": "94257aa9",
   "metadata": {},
   "outputs": [],
   "source": [
    "class MetamatDataset(Dataset):\n",
    "    def __init__(self, data_list, transform=None, pre_transform=None):\n",
    "        \"\"\"\n",
    "        Custom dataset for 3D graph data with 'Young' as the label.\n",
    "\n",
    "        Args:\n",
    "            data_list (list): List of dictionaries containing 'Nodal positions', 'Edge index', and 'Young'.\n",
    "            transform (callable, optional): A function/transform that takes in a Data object and returns a transformed version.\n",
    "            pre_transform (callable, optional): A function/transform that is applied before saving the data.\n",
    "        \"\"\"\n",
    "        self.data_list = data_list\n",
    "        super(MetamatDataset, self).__init__(None, transform, pre_transform)\n",
    "\n",
    "    def len(self):\n",
    "        return len(self.data_list)\n",
    "\n",
    "    def get(self, idx):\n",
    "        \"\"\"\n",
    "        Get a single graph data object.\n",
    "\n",
    "        Args:\n",
    "            idx (int): Index of the data to retrieve.\n",
    "\n",
    "        Returns:\n",
    "            Data: A PyTorch Geometric Data object containing the graph and label.\n",
    "        \"\"\"\n",
    "        entry = self.data_list[idx]\n",
    "        nodal_positions = torch.tensor(entry['Nodal positions'], dtype=torch.float)\n",
    "        edge_index = torch.tensor(entry['Edge index'], dtype=torch.long).t().contiguous()\n",
    "        young = torch.tensor(entry['Young'], dtype=torch.float).mean()  # Average Young values\n",
    "\n",
    "        return Data(x=nodal_positions, edge_index=edge_index, y=young)"
   ]
  },
  {
   "cell_type": "code",
   "execution_count": 9,
   "id": "c7539b1f",
   "metadata": {},
   "outputs": [],
   "source": [
    "import torch.nn as nn\n",
    "from torch_geometric.nn import GCNConv\n",
    "\n",
    "class PredictorGNN(nn.Module):\n",
    "    def __init__(self, input_dim, hidden_dim, output_dim):\n",
    "        \"\"\"\n",
    "        GNN model for predicting 'Young' based on 3D graph data.\n",
    "\n",
    "        Args:\n",
    "            input_dim (int): Dimension of input node features.\n",
    "            hidden_dim (int): Dimension of hidden layers.\n",
    "            output_dim (int): Dimension of output (1 for regression).\n",
    "        \"\"\"\n",
    "        super(PredictorGNN, self).__init__()\n",
    "        self.conv1 = GCNConv(input_dim, hidden_dim)\n",
    "        self.conv2 = GCNConv(hidden_dim, hidden_dim)\n",
    "        self.fc = nn.Linear(hidden_dim, output_dim)\n",
    "\n",
    "    def forward(self, x, edge_index):\n",
    "        \"\"\"\n",
    "        Forward pass of the GNN model.\n",
    "\n",
    "        Args:\n",
    "            x (Tensor): Node features.\n",
    "            edge_index (Tensor): Edge indices.\n",
    "\n",
    "        Returns:\n",
    "            Tensor: Predicted 'Young' value.\n",
    "        \"\"\"\n",
    "        x = self.conv1(x, edge_index)\n",
    "        x = torch.relu(x)\n",
    "        x = self.conv2(x, edge_index)\n",
    "        x = torch.relu(x)\n",
    "        x = torch.mean(x, dim=0)  # Global pooling\n",
    "        x = self.fc(x)\n",
    "        return x"
   ]
  },
  {
   "cell_type": "code",
   "execution_count": 10,
   "id": "4ccbb669",
   "metadata": {},
   "outputs": [],
   "source": [
    "def read_pkl_file(file_path):\n",
    "    with open(file_path, 'rb') as file:\n",
    "        data = pickle.load(file)\n",
    "    return data\n",
    "\n",
    "data = read_pkl_file(\"/home/wzhan24/MetaMatDiff/datacreate/data.pkl\")"
   ]
  },
  {
   "cell_type": "code",
   "execution_count": 11,
   "id": "6b14104e",
   "metadata": {},
   "outputs": [
    {
     "name": "stdout",
     "output_type": "stream",
     "text": [
      "Train dataset size: 10357\n",
      "Validation dataset size: 3452\n",
      "Test dataset size: 3453\n"
     ]
    }
   ],
   "source": [
    "# Build dataset from 'data'\n",
    "dataset = MetamatDataset(data)\n",
    "\n",
    "# Split dataset into train, validation, and test sets\n",
    "train_size = int(0.6 * len(dataset))\n",
    "val_size = int(0.2 * len(dataset))\n",
    "test_size = len(dataset) - train_size - val_size\n",
    "\n",
    "train_dataset, val_dataset, test_dataset = torch.utils.data.random_split(dataset, [train_size, val_size, test_size])\n",
    "\n",
    "print(f\"Train dataset size: {len(train_dataset)}\")\n",
    "print(f\"Validation dataset size: {len(val_dataset)}\")\n",
    "print(f\"Test dataset size: {len(test_dataset)}\")"
   ]
  },
  {
   "cell_type": "code",
   "execution_count": null,
   "id": "8a3b0012",
   "metadata": {},
   "outputs": [],
   "source": [
    "# Initialize the model, optimizer, and loss function\n",
    "device = torch.device('cuda' if torch.cuda.is_available() else 'cpu')\n",
    "model = PredictorGNN(input_dim=3, hidden_dim=64, output_dim=1).to(device)\n",
    "optimizer = torch.optim.Adam(model.parameters(), lr=0.001)\n",
    "criterion = nn.MSELoss()\n",
    "\n",
    "# Training loop with validation\n",
    "def train_model(model, train_dataset, val_dataset, optimizer, criterion, device, epochs=50):\n",
    "    model.train()\n",
    "    for epoch in range(epochs):\n",
    "        total_loss = 0\n",
    "        for data in train_dataset:\n",
    "            data = data.to(device)\n",
    "            optimizer.zero_grad()\n",
    "            output = model(data.x, data.edge_index)\n",
    "            loss = criterion(output, data.y)\n",
    "            loss.backward()\n",
    "            optimizer.step()\n",
    "            total_loss += loss.item()\n",
    "        print(f\"Epoch {epoch+1}/{epochs}, Loss: {total_loss/len(train_dataset):.4f}\")\n",
    "\n",
    "        # Validate every 5 epochs\n",
    "        if (epoch + 1) % 5 == 0:\n",
    "            model.eval()\n",
    "            val_loss = 0\n",
    "            with torch.no_grad():\n",
    "                for data in val_dataset:\n",
    "                    data = data.to(device)\n",
    "                    output = model(data.x, data.edge_index)\n",
    "                    loss = criterion(output, data.y)\n",
    "                    val_loss += loss.item()\n",
    "            print(f\"Validation Loss after Epoch {epoch+1}: {val_loss/len(val_dataset):.4f}\")\n",
    "            model.train()\n",
    "\n",
    "# Train the model\n",
    "train_model(model, train_dataset, val_dataset, optimizer, criterion, device)"
   ]
  }
 ],
 "metadata": {
  "kernelspec": {
   "display_name": "base",
   "language": "python",
   "name": "python3"
  },
  "language_info": {
   "codemirror_mode": {
    "name": "ipython",
    "version": 3
   },
   "file_extension": ".py",
   "mimetype": "text/x-python",
   "name": "python",
   "nbconvert_exporter": "python",
   "pygments_lexer": "ipython3",
   "version": "3.10.12"
  }
 },
 "nbformat": 4,
 "nbformat_minor": 5
}
